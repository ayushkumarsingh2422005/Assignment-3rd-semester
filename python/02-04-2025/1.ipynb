{
 "cells": [
  {
   "cell_type": "markdown",
   "metadata": {},
   "source": [
    "Q1 Write a Python script that reads a text file and creates a new file containing the word frequencies of all words in descending order."
   ]
  },
  {
   "cell_type": "code",
   "execution_count": null,
   "metadata": {},
   "outputs": [],
   "source": [
    "char_frequency = {}\n",
    "\n",
    "with open('1.txt', 'r') as file:\n",
    "    content = file.read()\n",
    "    for char in content:\n",
    "        if char in char_frequency:\n",
    "            char_frequency[char] += 1\n",
    "        else:\n",
    "            char_frequency[char] = 1\n",
    "\n",
    "with open('char_frequency.txt', 'w') as freq_file:\n",
    "    for char, freq in char_frequency.items():\n",
    "        freq_file.write(f\"{char}: {freq}\\n\")\n",
    "\n"
   ]
  },
  {
   "cell_type": "markdown",
   "metadata": {},
   "source": [
    "Q2 Write a program that takes a word as input, searches for it in a given file, replaces all its occurrences with another word, and writes the changes back to the same file.\n"
   ]
  },
  {
   "cell_type": "code",
   "execution_count": null,
   "metadata": {},
   "outputs": [],
   "source": [
    "old = input(\"Enter old word to be replaced : \")\n",
    "new = input(\"Enter new word to be replaced with : \")\n",
    "with open('1.txt', 'r+') as file:\n",
    "    content = file.read()\n",
    "    file.seek(0)\n",
    "    file.write(content.replace(old, new))\n",
    "    file.truncate()"
   ]
  },
  {
   "cell_type": "markdown",
   "metadata": {},
   "source": [
    "Q3 You have multiple text files in a folder. Write a Python program that merges all these files into a single file while maintaining the order of their creation time."
   ]
  },
  {
   "cell_type": "code",
   "execution_count": 6,
   "metadata": {},
   "outputs": [],
   "source": [
    "import os\n",
    "\n",
    "def merge_files(folder_path, output_file):\n",
    "    with open(output_file, 'w') as outfile:\n",
    "        for filename in sorted(os.listdir(folder_path), key=os.path.getctime):\n",
    "            if filename.endswith('.txt'):\n",
    "                with open(os.path.join(folder_path, filename), 'r') as infile:\n",
    "                    outfile.write(infile.read() + '\\n')\n",
    "\n",
    "merge_files('./', 'merged_output.txt')"
   ]
  },
  {
   "cell_type": "markdown",
   "metadata": {},
   "source": [
    "Q4 Given a CSV file containing missing or inconsistent data, write a Python script to clean the data by:\n",
    "- Removing duplicate rows\n",
    "- Filling missing values with the column average\n",
    "- Removing special characters from column names\n"
   ]
  },
  {
   "cell_type": "code",
   "execution_count": 60,
   "metadata": {},
   "outputs": [
    {
     "data": {
      "text/html": [
       "<div>\n",
       "<style scoped>\n",
       "    .dataframe tbody tr th:only-of-type {\n",
       "        vertical-align: middle;\n",
       "    }\n",
       "\n",
       "    .dataframe tbody tr th {\n",
       "        vertical-align: top;\n",
       "    }\n",
       "\n",
       "    .dataframe thead th {\n",
       "        text-align: right;\n",
       "    }\n",
       "</style>\n",
       "<table border=\"1\" class=\"dataframe\">\n",
       "  <thead>\n",
       "    <tr style=\"text-align: right;\">\n",
       "      <th></th>\n",
       "      <th>Age</th>\n",
       "      <th>Salary</th>\n",
       "      <th>Department</th>\n",
       "    </tr>\n",
       "    <tr>\n",
       "      <th>Name</th>\n",
       "      <th></th>\n",
       "      <th></th>\n",
       "      <th></th>\n",
       "    </tr>\n",
       "  </thead>\n",
       "  <tbody>\n",
       "    <tr>\n",
       "      <th>JohnDoe</th>\n",
       "      <td>28.0</td>\n",
       "      <td>50000.000000</td>\n",
       "      <td>Engineering</td>\n",
       "    </tr>\n",
       "    <tr>\n",
       "      <th>JaneSmith</th>\n",
       "      <td>34.0</td>\n",
       "      <td>60000.000000</td>\n",
       "      <td>Marketing</td>\n",
       "    </tr>\n",
       "    <tr>\n",
       "      <th>AliceJohnson</th>\n",
       "      <td>33.0</td>\n",
       "      <td>55000.000000</td>\n",
       "      <td>Sales</td>\n",
       "    </tr>\n",
       "    <tr>\n",
       "      <th>BobBrown</th>\n",
       "      <td>45.0</td>\n",
       "      <td>55428.571429</td>\n",
       "      <td>Engineering</td>\n",
       "    </tr>\n",
       "    <tr>\n",
       "      <th>CharlieDavis</th>\n",
       "      <td>30.0</td>\n",
       "      <td>70000.000000</td>\n",
       "      <td>Marketing</td>\n",
       "    </tr>\n",
       "    <tr>\n",
       "      <th>EveWhite</th>\n",
       "      <td>29.0</td>\n",
       "      <td>48000.000000</td>\n",
       "      <td>Sales</td>\n",
       "    </tr>\n",
       "    <tr>\n",
       "      <th>InvalidName</th>\n",
       "      <td>25.0</td>\n",
       "      <td>40000.000000</td>\n",
       "      <td>HR</td>\n",
       "    </tr>\n",
       "    <tr>\n",
       "      <th>DavidWilson</th>\n",
       "      <td>40.0</td>\n",
       "      <td>65000.000000</td>\n",
       "      <td>Engineering</td>\n",
       "    </tr>\n",
       "  </tbody>\n",
       "</table>\n",
       "</div>"
      ],
      "text/plain": [
       "               Age        Salary   Department\n",
       "Name                                         \n",
       "JohnDoe       28.0  50000.000000  Engineering\n",
       "JaneSmith     34.0  60000.000000    Marketing\n",
       "AliceJohnson  33.0  55000.000000        Sales\n",
       "BobBrown      45.0  55428.571429  Engineering\n",
       "CharlieDavis  30.0  70000.000000    Marketing\n",
       "EveWhite      29.0  48000.000000        Sales\n",
       "InvalidName   25.0  40000.000000           HR\n",
       "DavidWilson   40.0  65000.000000  Engineering"
      ]
     },
     "execution_count": 60,
     "metadata": {},
     "output_type": "execute_result"
    }
   ],
   "source": [
    "import pandas as pd\n",
    "\n",
    "data = pd.read_csv(\"data.csv\", index_col=\"Name\")\n",
    "data = data[~data.duplicated()]\n",
    "data.fillna(data[[\"Salary\", \"Age\"]].mean(), inplace=True)\n",
    "data.index = data.index.str.replace('[^A-Za-z0-9_]', '', regex=True)\n",
    "data\n",
    "# data[[\"Salary\", \"Age\"]].mean()"
   ]
  },
  {
   "cell_type": "markdown",
   "metadata": {},
   "source": [
    "Q5 Write a Python script to encrypt a text file using a simple substitution cipher and then write another script to decrypt it back to its original form"
   ]
  },
  {
   "cell_type": "code",
   "execution_count": 61,
   "metadata": {},
   "outputs": [],
   "source": [
    "def encrypt_file(input_file, output_file, shift):\n",
    "    with open(input_file, 'r') as infile:\n",
    "        text = infile.read()\n",
    "    \n",
    "    encrypted_text = ''.join(\n",
    "        chr((ord(char) - 65 + shift) % 26 + 65) if char.isupper() else\n",
    "        chr((ord(char) - 97 + shift) % 26 + 97) if char.islower() else char\n",
    "        for char in text\n",
    "    )\n",
    "    \n",
    "    with open(output_file, 'w') as outfile:\n",
    "        outfile.write(encrypted_text)\n",
    "\n",
    "def decrypt_file(input_file, output_file, shift):\n",
    "    decrypt_shift = -shift\n",
    "    encrypt_file(input_file, output_file, decrypt_shift)\n",
    "\n",
    "# Example usage\n",
    "encrypt_file('input.txt', 'encrypted.txt', 3)\n",
    "decrypt_file('encrypted.txt', 'decrypted.txt', 3)\n",
    "\n",
    "\n"
   ]
  },
  {
   "cell_type": "markdown",
   "metadata": {},
   "source": [
    "Q6 Write a NumPy operation to extract only the even numbers without using loops from a given array\n",
    "You have a large NumPy array: arr = np.random.randint(1, 100, (1000, 1000)) Find the sum of all prime numbers in “arr” efficiently. Avoid using Python loops."
   ]
  },
  {
   "cell_type": "code",
   "execution_count": 125,
   "metadata": {},
   "outputs": [
    {
     "data": {
      "text/plain": [
       "array([34, 74, 34, ..., 70, 24, 12], dtype=int32)"
      ]
     },
     "execution_count": 125,
     "metadata": {},
     "output_type": "execute_result"
    }
   ],
   "source": [
    "import numpy as np\n",
    "arr = np.random.randint(1, 100, (1000, 1000))\n",
    "arr[arr%2==0]"
   ]
  },
  {
   "cell_type": "markdown",
   "metadata": {},
   "source": [
    "Q7 Make a square matrix: Write a NumPy one-liner to rotate it 90 degrees clockwise."
   ]
  },
  {
   "cell_type": "code",
   "execution_count": 128,
   "metadata": {},
   "outputs": [
    {
     "data": {
      "text/plain": [
       "array([[0, 4, 1],\n",
       "       [8, 5, 2],\n",
       "       [9, 6, 3]])"
      ]
     },
     "execution_count": 128,
     "metadata": {},
     "output_type": "execute_result"
    }
   ],
   "source": [
    "import numpy as np\n",
    "arr = np.array([\n",
    "    [1,2,3],\n",
    "    [4,5,6],\n",
    "    [0,8,9]\n",
    "])\n",
    "rotated_arr = np.rot90(arr, k=-1)\n",
    "rotated_arr"
   ]
  },
  {
   "cell_type": "markdown",
   "metadata": {},
   "source": [
    "Q8 Generate a 1,000,000-element NumPy array of random numbers between -100 and 100. Compute:The mean,The median,The standard deviation, The 90th percentile Using efficient NumPy functions.\n"
   ]
  },
  {
   "cell_type": "code",
   "execution_count": 166,
   "metadata": {},
   "outputs": [
    {
     "data": {
      "text/plain": [
       "(np.float64(-0.0945233551878862),\n",
       " np.float64(-0.1493678876103175),\n",
       " np.float64(57.715122984810705),\n",
       " np.float64(79.94254710360313))"
      ]
     },
     "execution_count": 166,
     "metadata": {},
     "output_type": "execute_result"
    }
   ],
   "source": [
    "random_array = np.random.uniform(-100, 100, 1000000)\n",
    "mean_value = np.mean(random_array)\n",
    "median_value = np.median(random_array)\n",
    "std_deviation = np.std(random_array)\n",
    "percentile_90 = np.percentile(random_array, 90)\n",
    "\n",
    "mean_value, median_value, std_deviation, percentile_90\n",
    "\n"
   ]
  },
  {
   "cell_type": "markdown",
   "metadata": {},
   "source": [
    "Q9 Generate a random symmetric matrix of size (4,4). Compute:\n",
    "The determinant,The eigenvalues and eigenvectors,The inverse using NumPy functions"
   ]
  },
  {
   "cell_type": "code",
   "execution_count": 168,
   "metadata": {},
   "outputs": [
    {
     "data": {
      "text/plain": [
       "(array([[0.65670816, 0.13418635, 0.49495156, 0.23955196],\n",
       "        [0.13418635, 0.80518147, 0.20259466, 0.7270904 ],\n",
       "        [0.49495156, 0.20259466, 0.95412011, 0.48624553],\n",
       "        [0.23955196, 0.7270904 , 0.48624553, 0.25480729]]),\n",
       " np.float64(-0.14703678817097227),\n",
       " array([ 1.84178596,  0.85321366,  0.29403705, -0.31821964]),\n",
       " array([[ 0.40328784,  0.44585592,  0.79888815, -0.0186853 ],\n",
       "        [ 0.50240905, -0.69683354,  0.12366037, -0.49670542],\n",
       "        [ 0.59960837,  0.49475863, -0.58426297, -0.23306754],\n",
       "        [ 0.4747777 , -0.26617553, -0.07157244,  0.83583139]]),\n",
       " array([[ 2.4907463 ,  0.05268762, -1.21127186, -0.18051405],\n",
       "        [ 0.05268762, -0.01713088, -0.8500245 ,  1.62144066],\n",
       "        [-1.21127186, -0.8500245 ,  1.47235819,  0.75460799],\n",
       "        [-0.18051405,  1.62144066,  0.75460799, -1.97253464]]))"
      ]
     },
     "execution_count": 168,
     "metadata": {},
     "output_type": "execute_result"
    }
   ],
   "source": [
    "symmetric_matrix = np.random.rand(4, 4)\n",
    "symmetric_matrix = (symmetric_matrix + symmetric_matrix.T) / 2\n",
    "\n",
    "determinant = np.linalg.det(symmetric_matrix)\n",
    "eigenvalues, eigenvectors = np.linalg.eig(symmetric_matrix)\n",
    "inverse_matrix = np.linalg.inv(symmetric_matrix)\n",
    "\n",
    "symmetric_matrix, determinant, eigenvalues, eigenvectors, inverse_matrix\n",
    "\n"
   ]
  },
  {
   "cell_type": "markdown",
   "metadata": {},
   "source": [
    "Q10 WAP to find the second-largest value in each column of a DataFrame without using .sort_values()?"
   ]
  },
  {
   "cell_type": "code",
   "execution_count": null,
   "metadata": {},
   "outputs": [
    {
     "ename": "KeyError",
     "evalue": "'age'",
     "output_type": "error",
     "traceback": [
      "\u001b[1;31m---------------------------------------------------------------------------\u001b[0m",
      "\u001b[1;31mKeyError\u001b[0m                                  Traceback (most recent call last)",
      "File \u001b[1;32md:\\Program Files\\Python\\lib\\site-packages\\pandas\\core\\indexes\\base.py:3805\u001b[0m, in \u001b[0;36mIndex.get_loc\u001b[1;34m(self, key)\u001b[0m\n\u001b[0;32m   3804\u001b[0m \u001b[38;5;28;01mtry\u001b[39;00m:\n\u001b[1;32m-> 3805\u001b[0m     \u001b[38;5;28;01mreturn\u001b[39;00m \u001b[38;5;28;43mself\u001b[39;49m\u001b[38;5;241;43m.\u001b[39;49m\u001b[43m_engine\u001b[49m\u001b[38;5;241;43m.\u001b[39;49m\u001b[43mget_loc\u001b[49m\u001b[43m(\u001b[49m\u001b[43mcasted_key\u001b[49m\u001b[43m)\u001b[49m\n\u001b[0;32m   3806\u001b[0m \u001b[38;5;28;01mexcept\u001b[39;00m \u001b[38;5;167;01mKeyError\u001b[39;00m \u001b[38;5;28;01mas\u001b[39;00m err:\n",
      "File \u001b[1;32mindex.pyx:167\u001b[0m, in \u001b[0;36mpandas._libs.index.IndexEngine.get_loc\u001b[1;34m()\u001b[0m\n",
      "File \u001b[1;32mindex.pyx:196\u001b[0m, in \u001b[0;36mpandas._libs.index.IndexEngine.get_loc\u001b[1;34m()\u001b[0m\n",
      "File \u001b[1;32mpandas\\\\_libs\\\\hashtable_class_helper.pxi:7081\u001b[0m, in \u001b[0;36mpandas._libs.hashtable.PyObjectHashTable.get_item\u001b[1;34m()\u001b[0m\n",
      "File \u001b[1;32mpandas\\\\_libs\\\\hashtable_class_helper.pxi:7089\u001b[0m, in \u001b[0;36mpandas._libs.hashtable.PyObjectHashTable.get_item\u001b[1;34m()\u001b[0m\n",
      "\u001b[1;31mKeyError\u001b[0m: 'age'",
      "\nThe above exception was the direct cause of the following exception:\n",
      "\u001b[1;31mKeyError\u001b[0m                                  Traceback (most recent call last)",
      "Cell \u001b[1;32mIn[176], line 7\u001b[0m\n\u001b[0;32m      5\u001b[0m data\u001b[38;5;241m.\u001b[39mfillna(data[[\u001b[38;5;124m\"\u001b[39m\u001b[38;5;124mSalary\u001b[39m\u001b[38;5;124m\"\u001b[39m, \u001b[38;5;124m\"\u001b[39m\u001b[38;5;124mAge\u001b[39m\u001b[38;5;124m\"\u001b[39m]]\u001b[38;5;241m.\u001b[39mmean(), inplace\u001b[38;5;241m=\u001b[39m\u001b[38;5;28;01mTrue\u001b[39;00m)\n\u001b[0;32m      6\u001b[0m data\u001b[38;5;241m.\u001b[39mindex \u001b[38;5;241m=\u001b[39m data\u001b[38;5;241m.\u001b[39mindex\u001b[38;5;241m.\u001b[39mstr\u001b[38;5;241m.\u001b[39mreplace(\u001b[38;5;124m'\u001b[39m\u001b[38;5;124m[^A-Za-z0-9_]\u001b[39m\u001b[38;5;124m'\u001b[39m, \u001b[38;5;124m'\u001b[39m\u001b[38;5;124m'\u001b[39m, regex\u001b[38;5;241m=\u001b[39m\u001b[38;5;28;01mTrue\u001b[39;00m)\n\u001b[1;32m----> 7\u001b[0m data[\u001b[38;5;124m\"\u001b[39m\u001b[38;5;124mage_max\u001b[39m\u001b[38;5;124m\"\u001b[39m] \u001b[38;5;241m=\u001b[39m \u001b[43mdata\u001b[49m\u001b[43m[\u001b[49m\u001b[38;5;124;43m\"\u001b[39;49m\u001b[38;5;124;43mage\u001b[39;49m\u001b[38;5;124;43m\"\u001b[39;49m\u001b[43m]\u001b[49m \u001b[38;5;241m>\u001b[39m data[\u001b[38;5;124m\"\u001b[39m\u001b[38;5;124mAge\u001b[39m\u001b[38;5;124m\"\u001b[39m]\u001b[38;5;241m.\u001b[39mmax()\n",
      "File \u001b[1;32md:\\Program Files\\Python\\lib\\site-packages\\pandas\\core\\frame.py:4102\u001b[0m, in \u001b[0;36mDataFrame.__getitem__\u001b[1;34m(self, key)\u001b[0m\n\u001b[0;32m   4100\u001b[0m \u001b[38;5;28;01mif\u001b[39;00m \u001b[38;5;28mself\u001b[39m\u001b[38;5;241m.\u001b[39mcolumns\u001b[38;5;241m.\u001b[39mnlevels \u001b[38;5;241m>\u001b[39m \u001b[38;5;241m1\u001b[39m:\n\u001b[0;32m   4101\u001b[0m     \u001b[38;5;28;01mreturn\u001b[39;00m \u001b[38;5;28mself\u001b[39m\u001b[38;5;241m.\u001b[39m_getitem_multilevel(key)\n\u001b[1;32m-> 4102\u001b[0m indexer \u001b[38;5;241m=\u001b[39m \u001b[38;5;28;43mself\u001b[39;49m\u001b[38;5;241;43m.\u001b[39;49m\u001b[43mcolumns\u001b[49m\u001b[38;5;241;43m.\u001b[39;49m\u001b[43mget_loc\u001b[49m\u001b[43m(\u001b[49m\u001b[43mkey\u001b[49m\u001b[43m)\u001b[49m\n\u001b[0;32m   4103\u001b[0m \u001b[38;5;28;01mif\u001b[39;00m is_integer(indexer):\n\u001b[0;32m   4104\u001b[0m     indexer \u001b[38;5;241m=\u001b[39m [indexer]\n",
      "File \u001b[1;32md:\\Program Files\\Python\\lib\\site-packages\\pandas\\core\\indexes\\base.py:3812\u001b[0m, in \u001b[0;36mIndex.get_loc\u001b[1;34m(self, key)\u001b[0m\n\u001b[0;32m   3807\u001b[0m     \u001b[38;5;28;01mif\u001b[39;00m \u001b[38;5;28misinstance\u001b[39m(casted_key, \u001b[38;5;28mslice\u001b[39m) \u001b[38;5;129;01mor\u001b[39;00m (\n\u001b[0;32m   3808\u001b[0m         \u001b[38;5;28misinstance\u001b[39m(casted_key, abc\u001b[38;5;241m.\u001b[39mIterable)\n\u001b[0;32m   3809\u001b[0m         \u001b[38;5;129;01mand\u001b[39;00m \u001b[38;5;28many\u001b[39m(\u001b[38;5;28misinstance\u001b[39m(x, \u001b[38;5;28mslice\u001b[39m) \u001b[38;5;28;01mfor\u001b[39;00m x \u001b[38;5;129;01min\u001b[39;00m casted_key)\n\u001b[0;32m   3810\u001b[0m     ):\n\u001b[0;32m   3811\u001b[0m         \u001b[38;5;28;01mraise\u001b[39;00m InvalidIndexError(key)\n\u001b[1;32m-> 3812\u001b[0m     \u001b[38;5;28;01mraise\u001b[39;00m \u001b[38;5;167;01mKeyError\u001b[39;00m(key) \u001b[38;5;28;01mfrom\u001b[39;00m\u001b[38;5;250m \u001b[39m\u001b[38;5;21;01merr\u001b[39;00m\n\u001b[0;32m   3813\u001b[0m \u001b[38;5;28;01mexcept\u001b[39;00m \u001b[38;5;167;01mTypeError\u001b[39;00m:\n\u001b[0;32m   3814\u001b[0m     \u001b[38;5;66;03m# If we have a listlike key, _check_indexing_error will raise\u001b[39;00m\n\u001b[0;32m   3815\u001b[0m     \u001b[38;5;66;03m#  InvalidIndexError. Otherwise we fall through and re-raise\u001b[39;00m\n\u001b[0;32m   3816\u001b[0m     \u001b[38;5;66;03m#  the TypeError.\u001b[39;00m\n\u001b[0;32m   3817\u001b[0m     \u001b[38;5;28mself\u001b[39m\u001b[38;5;241m.\u001b[39m_check_indexing_error(key)\n",
      "\u001b[1;31mKeyError\u001b[0m: 'age'"
     ]
    }
   ],
   "source": [
    "import pandas as pd\n",
    "\n",
    "data = pd.read_csv(\"data.csv\", index_col=\"Name\")\n",
    "data = data[~data.duplicated()]\n",
    "data.fillna(data[[\"Salary\", \"Age\"]].mean(), inplace=True)\n",
    "data.index = data.index.str.replace('[^A-Za-z0-9_]', '', regex=True)\n",
    "data[\"age_max\"] = data[\"age\"] > data[\"Age\"].max()"
   ]
  }
 ],
 "metadata": {
  "kernelspec": {
   "display_name": "Python 3",
   "language": "python",
   "name": "python3"
  },
  "language_info": {
   "codemirror_mode": {
    "name": "ipython",
    "version": 3
   },
   "file_extension": ".py",
   "mimetype": "text/x-python",
   "name": "python",
   "nbconvert_exporter": "python",
   "pygments_lexer": "ipython3",
   "version": "3.10.6"
  }
 },
 "nbformat": 4,
 "nbformat_minor": 2
}
